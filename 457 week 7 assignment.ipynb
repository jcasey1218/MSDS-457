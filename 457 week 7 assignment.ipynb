{
 "cells": [
  {
   "cell_type": "code",
   "execution_count": 146,
   "metadata": {},
   "outputs": [],
   "source": [
    "import pandas as pd # panda's nickname is pd\n",
    "import numpy as np # numpy as np\n",
    "from pandas import DataFrame, Series # for convenience\n",
    "import csv\n",
    "import seaborn as sns\n",
    "import matplotlib.pyplot as plt\n",
    "import sklearn.linear_model\n",
    "from sklearn.linear_model import LinearRegression, Ridge, Lasso, ElasticNet\n",
    "from sklearn.metrics import mean_squared_error, r2_score\n",
    "from math import sqrt\n",
    "from scipy import stats \n",
    "import matplotlib.patches as mpatches\n"
   ]
  },
  {
   "cell_type": "markdown",
   "metadata": {},
   "source": [
    "# Attendance Comparison"
   ]
  },
  {
   "cell_type": "code",
   "execution_count": 2,
   "metadata": {},
   "outputs": [],
   "source": [
    "att=pd.read_csv('C:/Users/Jimmy/Documents/mlb attendance.csv')"
   ]
  },
  {
   "cell_type": "code",
   "execution_count": 3,
   "metadata": {},
   "outputs": [
    {
     "data": {
      "text/html": [
       "<div>\n",
       "<style scoped>\n",
       "    .dataframe tbody tr th:only-of-type {\n",
       "        vertical-align: middle;\n",
       "    }\n",
       "\n",
       "    .dataframe tbody tr th {\n",
       "        vertical-align: top;\n",
       "    }\n",
       "\n",
       "    .dataframe thead th {\n",
       "        text-align: right;\n",
       "    }\n",
       "</style>\n",
       "<table border=\"1\" class=\"dataframe\">\n",
       "  <thead>\n",
       "    <tr style=\"text-align: right;\">\n",
       "      <th></th>\n",
       "      <th>Year</th>\n",
       "      <th>MLB Total Attendance</th>\n",
       "      <th>MLB Ave Attendance</th>\n",
       "      <th>NL Central</th>\n",
       "      <th>Chicago Cubs</th>\n",
       "    </tr>\n",
       "  </thead>\n",
       "  <tbody>\n",
       "    <tr>\n",
       "      <td>0</td>\n",
       "      <td>2019</td>\n",
       "      <td>68,506,896</td>\n",
       "      <td>28203</td>\n",
       "      <td>15800.88272</td>\n",
       "      <td>19104.10494</td>\n",
       "    </tr>\n",
       "    <tr>\n",
       "      <td>1</td>\n",
       "      <td>2018</td>\n",
       "      <td>69,671,272</td>\n",
       "      <td>28659</td>\n",
       "      <td>15450.33662</td>\n",
       "      <td>19515.88344</td>\n",
       "    </tr>\n",
       "    <tr>\n",
       "      <td>2</td>\n",
       "      <td>2017</td>\n",
       "      <td>72,678,797</td>\n",
       "      <td>29908</td>\n",
       "      <td>16003.19136</td>\n",
       "      <td>19750.38272</td>\n",
       "    </tr>\n",
       "    <tr>\n",
       "      <td>3</td>\n",
       "      <td>2016</td>\n",
       "      <td>73,159,044</td>\n",
       "      <td>30131</td>\n",
       "      <td>16255.73020</td>\n",
       "      <td>20077.14286</td>\n",
       "    </tr>\n",
       "    <tr>\n",
       "      <td>4</td>\n",
       "      <td>2015</td>\n",
       "      <td>73,719,340</td>\n",
       "      <td>30349</td>\n",
       "      <td>17211.55679</td>\n",
       "      <td>18270.44444</td>\n",
       "    </tr>\n",
       "    <tr>\n",
       "      <td>5</td>\n",
       "      <td>2014</td>\n",
       "      <td>73,739,622</td>\n",
       "      <td>30345</td>\n",
       "      <td>17172.06667</td>\n",
       "      <td>16371.06790</td>\n",
       "    </tr>\n",
       "    <tr>\n",
       "      <td>6</td>\n",
       "      <td>2013</td>\n",
       "      <td>74,027,037</td>\n",
       "      <td>30451</td>\n",
       "      <td>16462.70000</td>\n",
       "      <td>16312.85185</td>\n",
       "    </tr>\n",
       "  </tbody>\n",
       "</table>\n",
       "</div>"
      ],
      "text/plain": [
       "   Year MLB Total Attendance  MLB Ave Attendance   NL Central  Chicago Cubs\n",
       "0  2019           68,506,896               28203  15800.88272   19104.10494\n",
       "1  2018           69,671,272               28659  15450.33662   19515.88344\n",
       "2  2017           72,678,797               29908  16003.19136   19750.38272\n",
       "3  2016           73,159,044               30131  16255.73020   20077.14286\n",
       "4  2015           73,719,340               30349  17211.55679   18270.44444\n",
       "5  2014           73,739,622               30345  17172.06667   16371.06790\n",
       "6  2013           74,027,037               30451  16462.70000   16312.85185"
      ]
     },
     "execution_count": 3,
     "metadata": {},
     "output_type": "execute_result"
    }
   ],
   "source": [
    "att"
   ]
  },
  {
   "cell_type": "code",
   "execution_count": 4,
   "metadata": {},
   "outputs": [
    {
     "data": {
      "text/plain": [
       "<matplotlib.legend.Legend at 0x11671ae5c8>"
      ]
     },
     "execution_count": 4,
     "metadata": {},
     "output_type": "execute_result"
    },
    {
     "data": {
      "image/png": "[encoded data removed]",
      "text/plain": [
       "<Figure size 432x288 with 1 Axes>"
      ]
     },
     "metadata": {
      "needs_background": "light"
     },
     "output_type": "display_data"
    }
   ],
   "source": [
    "plt.plot( 'Year','MLB Ave Attendance', data=att, marker='o', markerfacecolor='royalblue', markersize=6,\n",
    "         color='royalblue', linewidth=4)\n",
    "plt.plot( 'Year','NL Central', data=att, marker='o', markerfacecolor='darkviolet', markersize=6, \n",
    "         color='darkviolet', linewidth=4)\n",
    "plt.plot( 'Year','Chicago Cubs',  data=att, marker='o', markerfacecolor='red', markersize=6, \n",
    "         color='red', linewidth=4)\n",
    "plt.ylabel(\"Average Attendance\",color='navy',fontsize='12')\n",
    "plt.xlabel(\"Year\",color='navy',fontsize='12')\n",
    "plt.title(\"Average Attendance Per Game Since 2013\",color='navy',fontsize='15')\n",
    "plt.legend()"
   ]
  },
  {
   "cell_type": "code",
   "execution_count": 5,
   "metadata": {},
   "outputs": [],
   "source": [
    "#We are going to index the data to see growth or decline of each category.  Let's set multipliers for indexing \n",
    "#(100% divided by the 2013 value for each category )\n",
    "mlb_multiplier=100/30451\n",
    "nl_multiplier=100/16462\n",
    "chc_multiplier=100/16312"
   ]
  },
  {
   "cell_type": "code",
   "execution_count": 6,
   "metadata": {},
   "outputs": [],
   "source": [
    "index_mlb= att[\"MLB Ave Attendance\"]*(mlb_multiplier)\n",
    "index_nl= att[\"NL Central\"]*(nl_multiplier)\n",
    "index_chc= att[\"Chicago Cubs\"]*(chc_multiplier)"
   ]
  },
  {
   "cell_type": "code",
   "execution_count": 7,
   "metadata": {},
   "outputs": [
    {
     "data": {
      "text/html": [
       "<div>\n",
       "<style scoped>\n",
       "    .dataframe tbody tr th:only-of-type {\n",
       "        vertical-align: middle;\n",
       "    }\n",
       "\n",
       "    .dataframe tbody tr th {\n",
       "        vertical-align: top;\n",
       "    }\n",
       "\n",
       "    .dataframe thead th {\n",
       "        text-align: right;\n",
       "    }\n",
       "</style>\n",
       "<table border=\"1\" class=\"dataframe\">\n",
       "  <thead>\n",
       "    <tr style=\"text-align: right;\">\n",
       "      <th></th>\n",
       "      <th>Year</th>\n",
       "      <th>MLB Ave Attendance</th>\n",
       "      <th>NL Central</th>\n",
       "      <th>Chicago Cubs</th>\n",
       "    </tr>\n",
       "  </thead>\n",
       "  <tbody>\n",
       "    <tr>\n",
       "      <td>0</td>\n",
       "      <td>2019.0</td>\n",
       "      <td>92.617648</td>\n",
       "      <td>95.983980</td>\n",
       "      <td>117.116877</td>\n",
       "    </tr>\n",
       "    <tr>\n",
       "      <td>1</td>\n",
       "      <td>2018.0</td>\n",
       "      <td>94.115136</td>\n",
       "      <td>93.854554</td>\n",
       "      <td>119.641267</td>\n",
       "    </tr>\n",
       "    <tr>\n",
       "      <td>2</td>\n",
       "      <td>2017.0</td>\n",
       "      <td>98.216807</td>\n",
       "      <td>97.212923</td>\n",
       "      <td>121.078854</td>\n",
       "    </tr>\n",
       "    <tr>\n",
       "      <td>3</td>\n",
       "      <td>2016.0</td>\n",
       "      <td>98.949131</td>\n",
       "      <td>98.746994</td>\n",
       "      <td>123.082043</td>\n",
       "    </tr>\n",
       "    <tr>\n",
       "      <td>4</td>\n",
       "      <td>2015.0</td>\n",
       "      <td>99.665036</td>\n",
       "      <td>104.553255</td>\n",
       "      <td>112.006158</td>\n",
       "    </tr>\n",
       "    <tr>\n",
       "      <td>5</td>\n",
       "      <td>2014.0</td>\n",
       "      <td>99.651900</td>\n",
       "      <td>104.313368</td>\n",
       "      <td>100.362113</td>\n",
       "    </tr>\n",
       "    <tr>\n",
       "      <td>6</td>\n",
       "      <td>2013.0</td>\n",
       "      <td>100.000000</td>\n",
       "      <td>100.004252</td>\n",
       "      <td>100.005222</td>\n",
       "    </tr>\n",
       "  </tbody>\n",
       "</table>\n",
       "</div>"
      ],
      "text/plain": [
       "     Year  MLB Ave Attendance  NL Central  Chicago Cubs\n",
       "0  2019.0           92.617648   95.983980    117.116877\n",
       "1  2018.0           94.115136   93.854554    119.641267\n",
       "2  2017.0           98.216807   97.212923    121.078854\n",
       "3  2016.0           98.949131   98.746994    123.082043\n",
       "4  2015.0           99.665036  104.553255    112.006158\n",
       "5  2014.0           99.651900  104.313368    100.362113\n",
       "6  2013.0          100.000000  100.004252    100.005222"
      ]
     },
     "execution_count": 7,
     "metadata": {},
     "output_type": "execute_result"
    }
   ],
   "source": [
    "df1=pd.DataFrame([att[\"Year\"],index_mlb,index_nl,index_chc]).transpose()\n",
    "df1"
   ]
  },
  {
   "cell_type": "code",
   "execution_count": 8,
   "metadata": {},
   "outputs": [
    {
     "data": {
      "text/plain": [
       "<matplotlib.legend.Legend at 0x1167ac9208>"
      ]
     },
     "execution_count": 8,
     "metadata": {},
     "output_type": "execute_result"
    },
    {
     "data": {
      "image/png": "[encoded data removed]",
      "text/plain": [
       "<Figure size 432x288 with 1 Axes>"
      ]
     },
     "metadata": {
      "needs_background": "light"
     },
     "output_type": "display_data"
    }
   ],
   "source": [
    "plt.plot( 'Year','MLB Ave Attendance', data=df1, marker='o', markerfacecolor='royalblue',linestyle='--',\n",
    "         markersize=6,color='royalblue', linewidth=4)\n",
    "plt.plot( 'Year','NL Central', data=df1, marker='o', markerfacecolor='darkviolet',linestyle='--', markersize=6, \n",
    "         color='darkviolet', linewidth=4)\n",
    "plt.plot( 'Year','Chicago Cubs',  data=df1, marker='o', markerfacecolor='red',linestyle='--', markersize=6, \n",
    "         color='red', linewidth=4)\n",
    "plt.ylabel(\"Attendance Growth\",color='navy',fontsize='12')\n",
    "plt.xlabel(\"Year\",color='navy',fontsize='12')\n",
    "plt.title(\"Attendance Growth Since 2013\",color='navy',fontsize='15')\n",
    "plt.legend(loc='center right')"
   ]
  },
  {
   "cell_type": "markdown",
   "metadata": {},
   "source": [
    "# Cubs Attendance Analysis"
   ]
  },
  {
   "cell_type": "code",
   "execution_count": 73,
   "metadata": {},
   "outputs": [],
   "source": [
    "#lets look at factors that affect attendance\n",
    "cubs19=pd.read_csv('C:/Users/Jimmy/Documents/2019_cubs_home_games.csv')\n",
    "cubs18=pd.read_csv('C:/Users/Jimmy/Documents/2018_cubs_home_games.csv')\n",
    "cubs19_lr=pd.read_csv('C:/Users/Jimmy/Documents/2019_cubs_home_games_lr.csv')\n",
    "cubs18_lr=pd.read_csv('C:/Users/Jimmy/Documents/2018_cubs_home_games_lr.csv')"
   ]
  },
  {
   "cell_type": "code",
   "execution_count": 10,
   "metadata": {},
   "outputs": [
    {
     "data": {
      "text/html": [
       "<div>\n",
       "<style scoped>\n",
       "    .dataframe tbody tr th:only-of-type {\n",
       "        vertical-align: middle;\n",
       "    }\n",
       "\n",
       "    .dataframe tbody tr th {\n",
       "        vertical-align: top;\n",
       "    }\n",
       "\n",
       "    .dataframe thead th {\n",
       "        text-align: right;\n",
       "    }\n",
       "</style>\n",
       "<table border=\"1\" class=\"dataframe\">\n",
       "  <thead>\n",
       "    <tr style=\"text-align: right;\">\n",
       "      <th></th>\n",
       "      <th>Home Game Played</th>\n",
       "      <th>Game Played</th>\n",
       "      <th>Month</th>\n",
       "      <th>Day</th>\n",
       "      <th>Date</th>\n",
       "      <th>Tm</th>\n",
       "      <th>Opp</th>\n",
       "      <th>D/N</th>\n",
       "      <th>Promotion</th>\n",
       "      <th>Attendance</th>\n",
       "    </tr>\n",
       "  </thead>\n",
       "  <tbody>\n",
       "    <tr>\n",
       "      <td>0</td>\n",
       "      <td>1</td>\n",
       "      <td>10</td>\n",
       "      <td>April</td>\n",
       "      <td>Monday</td>\n",
       "      <td>Monday, Apr 8</td>\n",
       "      <td>CHC</td>\n",
       "      <td>PIT</td>\n",
       "      <td>D</td>\n",
       "      <td>1</td>\n",
       "      <td>40692</td>\n",
       "    </tr>\n",
       "    <tr>\n",
       "      <td>1</td>\n",
       "      <td>2</td>\n",
       "      <td>11</td>\n",
       "      <td>April</td>\n",
       "      <td>Wednesday</td>\n",
       "      <td>Wednesday, Apr 10</td>\n",
       "      <td>CHC</td>\n",
       "      <td>PIT</td>\n",
       "      <td>N</td>\n",
       "      <td>0</td>\n",
       "      <td>32798</td>\n",
       "    </tr>\n",
       "    <tr>\n",
       "      <td>2</td>\n",
       "      <td>3</td>\n",
       "      <td>12</td>\n",
       "      <td>April</td>\n",
       "      <td>Thursday</td>\n",
       "      <td>Thursday, Apr 11</td>\n",
       "      <td>CHC</td>\n",
       "      <td>PIT</td>\n",
       "      <td>N</td>\n",
       "      <td>0</td>\n",
       "      <td>31906</td>\n",
       "    </tr>\n",
       "    <tr>\n",
       "      <td>3</td>\n",
       "      <td>4</td>\n",
       "      <td>13</td>\n",
       "      <td>April</td>\n",
       "      <td>Friday</td>\n",
       "      <td>Friday, Apr 12</td>\n",
       "      <td>CHC</td>\n",
       "      <td>LAA</td>\n",
       "      <td>D</td>\n",
       "      <td>0</td>\n",
       "      <td>30102</td>\n",
       "    </tr>\n",
       "    <tr>\n",
       "      <td>4</td>\n",
       "      <td>5</td>\n",
       "      <td>14</td>\n",
       "      <td>April</td>\n",
       "      <td>Saturday</td>\n",
       "      <td>Saturday, Apr 13</td>\n",
       "      <td>CHC</td>\n",
       "      <td>LAA</td>\n",
       "      <td>D</td>\n",
       "      <td>1</td>\n",
       "      <td>38755</td>\n",
       "    </tr>\n",
       "  </tbody>\n",
       "</table>\n",
       "</div>"
      ],
      "text/plain": [
       "   Home Game Played  Game Played  Month        Day               Date   Tm  \\\n",
       "0                 1           10  April     Monday      Monday, Apr 8  CHC   \n",
       "1                 2           11  April  Wednesday  Wednesday, Apr 10  CHC   \n",
       "2                 3           12  April   Thursday   Thursday, Apr 11  CHC   \n",
       "3                 4           13  April     Friday     Friday, Apr 12  CHC   \n",
       "4                 5           14  April   Saturday   Saturday, Apr 13  CHC   \n",
       "\n",
       "   Opp D/N  Promotion  Attendance  \n",
       "0  PIT   D          1       40692  \n",
       "1  PIT   N          0       32798  \n",
       "2  PIT   N          0       31906  \n",
       "3  LAA   D          0       30102  \n",
       "4  LAA   D          1       38755  "
      ]
     },
     "execution_count": 10,
     "metadata": {},
     "output_type": "execute_result"
    }
   ],
   "source": [
    "cubs19.head()"
   ]
  },
  {
   "cell_type": "code",
   "execution_count": 11,
   "metadata": {},
   "outputs": [
    {
     "data": {
      "text/html": [
       "<div>\n",
       "<style scoped>\n",
       "    .dataframe tbody tr th:only-of-type {\n",
       "        vertical-align: middle;\n",
       "    }\n",
       "\n",
       "    .dataframe tbody tr th {\n",
       "        vertical-align: top;\n",
       "    }\n",
       "\n",
       "    .dataframe thead th {\n",
       "        text-align: right;\n",
       "    }\n",
       "</style>\n",
       "<table border=\"1\" class=\"dataframe\">\n",
       "  <thead>\n",
       "    <tr style=\"text-align: right;\">\n",
       "      <th></th>\n",
       "      <th>Home Game Played</th>\n",
       "      <th>Game Played</th>\n",
       "      <th>Month</th>\n",
       "      <th>Day</th>\n",
       "      <th>Date</th>\n",
       "      <th>Tm</th>\n",
       "      <th>Opp</th>\n",
       "      <th>D/N</th>\n",
       "      <th>Promotion</th>\n",
       "      <th>Attendance</th>\n",
       "    </tr>\n",
       "  </thead>\n",
       "  <tbody>\n",
       "    <tr>\n",
       "      <td>0</td>\n",
       "      <td>1</td>\n",
       "      <td>10</td>\n",
       "      <td>April</td>\n",
       "      <td>Tuesday</td>\n",
       "      <td>Tuesday, Apr 10</td>\n",
       "      <td>CHC</td>\n",
       "      <td>PIT</td>\n",
       "      <td>D</td>\n",
       "      <td>1</td>\n",
       "      <td>40144</td>\n",
       "    </tr>\n",
       "    <tr>\n",
       "      <td>1</td>\n",
       "      <td>2</td>\n",
       "      <td>11</td>\n",
       "      <td>April</td>\n",
       "      <td>Wednesday</td>\n",
       "      <td>Wednesday, Apr 11</td>\n",
       "      <td>CHC</td>\n",
       "      <td>PIT</td>\n",
       "      <td>N</td>\n",
       "      <td>0</td>\n",
       "      <td>35596</td>\n",
       "    </tr>\n",
       "    <tr>\n",
       "      <td>2</td>\n",
       "      <td>3</td>\n",
       "      <td>12</td>\n",
       "      <td>April</td>\n",
       "      <td>Thursday</td>\n",
       "      <td>Thursday, Apr 12</td>\n",
       "      <td>CHC</td>\n",
       "      <td>PIT</td>\n",
       "      <td>D</td>\n",
       "      <td>0</td>\n",
       "      <td>29949</td>\n",
       "    </tr>\n",
       "    <tr>\n",
       "      <td>3</td>\n",
       "      <td>4</td>\n",
       "      <td>13</td>\n",
       "      <td>April</td>\n",
       "      <td>Friday</td>\n",
       "      <td>Friday, Apr 13</td>\n",
       "      <td>CHC</td>\n",
       "      <td>ATL</td>\n",
       "      <td>D</td>\n",
       "      <td>0</td>\n",
       "      <td>29775</td>\n",
       "    </tr>\n",
       "    <tr>\n",
       "      <td>4</td>\n",
       "      <td>5</td>\n",
       "      <td>14</td>\n",
       "      <td>April</td>\n",
       "      <td>Saturday</td>\n",
       "      <td>Saturday, Apr 14</td>\n",
       "      <td>CHC</td>\n",
       "      <td>ATL</td>\n",
       "      <td>D</td>\n",
       "      <td>1</td>\n",
       "      <td>36788</td>\n",
       "    </tr>\n",
       "  </tbody>\n",
       "</table>\n",
       "</div>"
      ],
      "text/plain": [
       "   Home Game Played  Game Played  Month        Day               Date   Tm  \\\n",
       "0                 1           10  April    Tuesday    Tuesday, Apr 10  CHC   \n",
       "1                 2           11  April  Wednesday  Wednesday, Apr 11  CHC   \n",
       "2                 3           12  April   Thursday   Thursday, Apr 12  CHC   \n",
       "3                 4           13  April     Friday     Friday, Apr 13  CHC   \n",
       "4                 5           14  April   Saturday   Saturday, Apr 14  CHC   \n",
       "\n",
       "   Opp D/N  Promotion  Attendance  \n",
       "0  PIT   D          1       40144  \n",
       "1  PIT   N          0       35596  \n",
       "2  PIT   D          0       29949  \n",
       "3  ATL   D          0       29775  \n",
       "4  ATL   D          1       36788  "
      ]
     },
     "execution_count": 11,
     "metadata": {},
     "output_type": "execute_result"
    }
   ],
   "source": [
    "cubs18.head()"
   ]
  },
  {
   "cell_type": "code",
   "execution_count": 12,
   "metadata": {},
   "outputs": [],
   "source": [
    "#plot by month\n",
    "mon19=cubs19.groupby(\"Month\")['Attendance'].mean()\n",
    "mon18=cubs18.groupby(\"Month\")['Attendance'].mean()"
   ]
  },
  {
   "cell_type": "code",
   "execution_count": 135,
   "metadata": {},
   "outputs": [
    {
     "data": {
      "image/png": "[encoded data removed]",
      "text/plain": [
       "<Figure size 432x288 with 2 Axes>"
      ]
     },
     "metadata": {
      "needs_background": "light"
     },
     "output_type": "display_data"
    }
   ],
   "source": [
    "fig = plt.figure() # Create matplotlib figure\n",
    "\n",
    "month_order=[\"April\",\"May\",\"June\",\"July\",\"August\",\"September\"]\n",
    "\n",
    "ax = fig.add_subplot(111) # Create matplotlib axes\n",
    "ax2 = ax.twinx() # Create another axes that shares the same x-axis as ax.\n",
    "\n",
    "width = 0.2\n",
    "\n",
    "mon19.loc[month_order].plot(kind='bar', color='red', ax=ax, width=width, position=1)\n",
    "mon18.loc[month_order].plot(kind='bar', color='blue', ax=ax2, width=width, position=0)\n",
    "\n",
    "ax.set_ylabel('Attendance')\n",
    "ax2.set_ylabel('')\n",
    "\n",
    "ax.set_ylim([30000,41000])\n",
    "ax2.set_ylim([30000,41000])\n",
    "\n",
    "plt.title(\"Average Attendance by Month\")\n",
    "\n",
    "red_patch = mpatches.Patch(color='red', label='2019')\n",
    "blue_patch = mpatches.Patch(color='blue', label='2018')\n",
    "\n",
    "plt.legend(handles=[red_patch,blue_patch])\n",
    "\n",
    "plt.show()\n",
    "\n"
   ]
  },
  {
   "cell_type": "code",
   "execution_count": 14,
   "metadata": {},
   "outputs": [],
   "source": [
    "#plot by Day\n",
    "day19=cubs19.groupby(\"Day\")['Attendance'].mean()\n",
    "day18=cubs18.groupby(\"Day\")['Attendance'].mean()"
   ]
  },
  {
   "cell_type": "code",
   "execution_count": 134,
   "metadata": {},
   "outputs": [
    {
     "data": {
      "image/png": "[encoded data removed]",
      "text/plain": [
       "<Figure size 432x288 with 2 Axes>"
      ]
     },
     "metadata": {
      "needs_background": "light"
     },
     "output_type": "display_data"
    }
   ],
   "source": [
    "fig = plt.figure() # Create matplotlib figure\n",
    "\n",
    "day_order = [\"Sunday\",\"Monday\", \"Tuesday\", \"Wednesday\", \"Thursday\", \"Friday\", \"Saturday\"]\n",
    "\n",
    "ax = fig.add_subplot(111) # Create matplotlib axes\n",
    "ax2 = ax.twinx() # Create another axes that shares the same x-axis as ax.\n",
    "\n",
    "width = 0.2\n",
    "\n",
    "day19.loc[day_order].plot(kind='bar', color='red', ax=ax, width=width, position=1)\n",
    "day18.loc[day_order].plot(kind='bar', color='blue', ax=ax2, width=width, position=0)\n",
    "\n",
    "ax.set_ylabel('Attendance')\n",
    "ax2.set_ylabel('')\n",
    "\n",
    "ax.set_ylim([30000,41000])\n",
    "ax2.set_ylim([30000,41000])\n",
    "\n",
    "plt.title(\"Average Attendance by Day of the Week\")\n",
    "\n",
    "red_patch = mpatches.Patch(color='red', label='2019')\n",
    "blue_patch = mpatches.Patch(color='blue', label='2018')\n",
    "\n",
    "plt.legend(handles=[red_patch,blue_patch])\n",
    "\n",
    "plt.show()\n"
   ]
  },
  {
   "cell_type": "code",
   "execution_count": 138,
   "metadata": {},
   "outputs": [],
   "source": [
    "#plot by Day\n",
    "nd19=cubs19.groupby(\"D/N\")['Attendance'].mean()\n",
    "nd18=cubs18.groupby(\"D/N\")['Attendance'].mean()"
   ]
  },
  {
   "cell_type": "code",
   "execution_count": 155,
   "metadata": {},
   "outputs": [
    {
     "data": {
      "image/png": "[encoded data removed]",
      "text/plain": [
       "<Figure size 432x288 with 2 Axes>"
      ]
     },
     "metadata": {
      "needs_background": "light"
     },
     "output_type": "display_data"
    }
   ],
   "source": [
    "fig = plt.figure() # Create matplotlib figure\n",
    "\n",
    "ax = fig.add_subplot(111) # Create matplotlib axes\n",
    "ax2 = ax.twinx() # Create another axes that shares the same x-axis as ax.\n",
    "\n",
    "width = 0.2\n",
    "\n",
    "nd19.plot(kind='bar', color='red', ax=ax, width=width, position=1)\n",
    "nd18.plot(kind='bar', color='blue', ax=ax2, width=width, position=0)\n",
    "\n",
    "ax.set_ylabel('Attendance')\n",
    "ax2.set_ylabel('')\n",
    "\n",
    "ax.set_ylim([30000,41000])\n",
    "ax2.set_ylim([30000,41000])\n",
    "\n",
    "plt.xticks(np.arange(2), ['Day', 'Night'])\n",
    "\n",
    "plt.title(\"Average Attendance for Day and Night Games\")\n",
    "\n",
    "red_patch = mpatches.Patch(color='red', label='2019')\n",
    "blue_patch = mpatches.Patch(color='blue', label='2018')\n",
    "\n",
    "plt.legend(handles=[red_patch,blue_patch])\n",
    "\n",
    "plt.show()"
   ]
  },
  {
   "cell_type": "code",
   "execution_count": 140,
   "metadata": {},
   "outputs": [],
   "source": [
    "#plot by Day\n",
    "p19=cubs19.groupby(\"Promotion\")['Attendance'].mean()\n",
    "p18=cubs18.groupby(\"Promotion\")['Attendance'].mean()"
   ]
  },
  {
   "cell_type": "code",
   "execution_count": 154,
   "metadata": {},
   "outputs": [
    {
     "data": {
      "image/png": "[encoded data removed]",
      "text/plain": [
       "<Figure size 432x288 with 2 Axes>"
      ]
     },
     "metadata": {
      "needs_background": "light"
     },
     "output_type": "display_data"
    }
   ],
   "source": [
    "fig = plt.figure() # Create matplotlib figure\n",
    "\n",
    "ax = fig.add_subplot(111) # Create matplotlib axes\n",
    "ax2 = ax.twinx() # Create another axes that shares the same x-axis as ax.\n",
    "\n",
    "width = 0.2\n",
    "\n",
    "p19.plot(kind='bar', color='red', ax=ax, width=width, position=1)\n",
    "p18.plot(kind='bar', color='blue', ax=ax2, width=width, position=0)\n",
    "\n",
    "ax.set_ylabel('Attendance')\n",
    "ax2.set_ylabel('')\n",
    "\n",
    "ax.set_ylim([30000,41000])\n",
    "ax2.set_ylim([30000,41000])\n",
    "\n",
    "\n",
    "\n",
    "plt.xticks(np.arange(2), ['No', 'Yes'])\n",
    "\n",
    "plt.title(\"Average Attendance for Games with Promotions\")\n",
    "\n",
    "red_patch = mpatches.Patch(color='red', label='2019')\n",
    "blue_patch = mpatches.Patch(color='blue', label='2018')\n",
    "\n",
    "plt.legend(handles=[red_patch,blue_patch])\n",
    "\n",
    "plt.show()"
   ]
  },
  {
   "cell_type": "code",
   "execution_count": 150,
   "metadata": {},
   "outputs": [
    {
     "data": {
      "text/plain": [
       "<matplotlib.legend.Legend at 0x116b904e08>"
      ]
     },
     "execution_count": 150,
     "metadata": {},
     "output_type": "execute_result"
    },
    {
     "data": {
      "image/png": "[encoded data removed]",
      "text/plain": [
       "<Figure size 432x288 with 1 Axes>"
      ]
     },
     "metadata": {
      "needs_background": "light"
     },
     "output_type": "display_data"
    }
   ],
   "source": [
    "#2019\n",
    "#attendance by month and promotion\n",
    "colors = np.where(cubs19['Promotion'] == 1, 'r', 'k')\n",
    "plt.scatter(x=cubs19['Month'], y=cubs19['Attendance'],c=colors)\n",
    "plt.ylabel(\"Attendance\")\n",
    "plt.title(\"2019 Cubs Attendance by Month\")\n",
    "\n",
    "red_patch = mpatches.Patch(color='red', label='Promotion')\n",
    "blue_patch = mpatches.Patch(color='black', label='No Promotion')\n",
    "\n",
    "plt.legend(handles=[red_patch,blue_patch])\n"
   ]
  },
  {
   "cell_type": "code",
   "execution_count": 151,
   "metadata": {},
   "outputs": [
    {
     "data": {
      "text/plain": [
       "<matplotlib.legend.Legend at 0x116b8e70c8>"
      ]
     },
     "execution_count": 151,
     "metadata": {},
     "output_type": "execute_result"
    },
    {
     "data": {
      "image/png": "[encoded data removed]",
      "text/plain": [
       "<Figure size 432x288 with 1 Axes>"
      ]
     },
     "metadata": {
      "needs_background": "light"
     },
     "output_type": "display_data"
    }
   ],
   "source": [
    "#attendance by month and night or day \n",
    "colors = np.where(cubs19_lr['D/N (1=night)'] == 1, 'b', 'k')\n",
    "plt.scatter(x=cubs19['Month'], y=cubs19_lr['Attendance'],c=colors)\n",
    "plt.ylabel(\"Attendance\")\n",
    "plt.title(\"2019 Cubs Attendance by Month \")\n",
    "\n",
    "red_patch = mpatches.Patch(color='blue', label='Night')\n",
    "blue_patch = mpatches.Patch(color='black', label='Day')\n",
    "\n",
    "plt.legend(handles=[red_patch,blue_patch])\n"
   ]
  },
  {
   "cell_type": "code",
   "execution_count": 152,
   "metadata": {},
   "outputs": [
    {
     "data": {
      "text/plain": [
       "<matplotlib.legend.Legend at 0x116b8e7c88>"
      ]
     },
     "execution_count": 152,
     "metadata": {},
     "output_type": "execute_result"
    },
    {
     "data": {
      "image/png": "[encoded data removed]",
      "text/plain": [
       "<Figure size 432x288 with 1 Axes>"
      ]
     },
     "metadata": {
      "needs_background": "light"
     },
     "output_type": "display_data"
    }
   ],
   "source": [
    "#2018\n",
    "#attendance by month and promotion\n",
    "colors = np.where(cubs18['Promotion'] == 1, 'r', 'k')\n",
    "plt.scatter(x=cubs18['Month'], y=cubs18['Attendance'],c=colors)\n",
    "plt.ylabel(\"Attendance\")\n",
    "plt.title(\"2018 Cubs Attendance by Month\")\n",
    "\n",
    "red_patch = mpatches.Patch(color='red', label='Promotion')\n",
    "blue_patch = mpatches.Patch(color='black', label='No Promotion')\n",
    "\n",
    "plt.legend(handles=[red_patch,blue_patch])\n"
   ]
  },
  {
   "cell_type": "code",
   "execution_count": 156,
   "metadata": {},
   "outputs": [
    {
     "data": {
      "text/plain": [
       "<matplotlib.legend.Legend at 0x11680c1608>"
      ]
     },
     "execution_count": 156,
     "metadata": {},
     "output_type": "execute_result"
    },
    {
     "data": {
      "image/png": "[encoded data removed]",
      "text/plain": [
       "<Figure size 432x288 with 1 Axes>"
      ]
     },
     "metadata": {
      "needs_background": "light"
     },
     "output_type": "display_data"
    }
   ],
   "source": [
    "#attendance by month and night or day \n",
    "colors = np.where(cubs18_lr['D/N (1=night)'] == 1, 'b', 'k')\n",
    "plt.scatter(x=cubs18['Month'], y=cubs18_lr['Attendance'],c=colors)\n",
    "plt.ylabel(\"Attendance\")\n",
    "plt.title(\"2018 Cubs Attendance by Month \")\n",
    "\n",
    "red_patch = mpatches.Patch(color='blue', label='Night')\n",
    "blue_patch = mpatches.Patch(color='black', label='Day')\n",
    "\n",
    "plt.legend(handles=[red_patch,blue_patch])\n"
   ]
  },
  {
   "cell_type": "code",
   "execution_count": 174,
   "metadata": {},
   "outputs": [
    {
     "name": "stdout",
     "output_type": "stream",
     "text": [
      "           Attendance  Promotion\n",
      "Day                             \n",
      "Friday         533944          9\n",
      "Monday         341144          2\n",
      "Saturday       561282          1\n",
      "Sunday         510303         11\n",
      "Thursday       327875          3\n",
      "Tuesday        408465          2\n",
      "Wednesday      411852          2\n",
      "           Home Game Played  Game Played  Month  Date  Tm  Opp  D/N  \\\n",
      "Day                                                                   \n",
      "Friday                   14           14     14    14  14   14   14   \n",
      "Monday                    9            9      9     9   9    9    9   \n",
      "Saturday                 14           14     14    14  14   14   14   \n",
      "Sunday                   13           13     13    13  13   13   13   \n",
      "Thursday                  9            9      9     9   9    9    9   \n",
      "Tuesday                  11           11     11    11  11   11   11   \n",
      "Wednesday                11           11     11    11  11   11   11   \n",
      "\n",
      "           Promotion  Attendance  \n",
      "Day                               \n",
      "Friday            14          14  \n",
      "Monday             9           9  \n",
      "Saturday          14          14  \n",
      "Sunday            13          13  \n",
      "Thursday           9           9  \n",
      "Tuesday           11          11  \n",
      "Wednesday         11          11  \n"
     ]
    }
   ],
   "source": [
    "#Let's see breakdown of promotions by days of the week\n",
    "day19p=cubs19.groupby(\"Day\")['Attendance','Promotion'].sum()\n",
    "day19g=cubs19.groupby(\"Day\").count()\n",
    "print(day19p)\n",
    "print(day19g)"
   ]
  },
  {
   "cell_type": "code",
   "execution_count": 188,
   "metadata": {},
   "outputs": [
    {
     "name": "stdout",
     "output_type": "stream",
     "text": [
      "           Attendance  Promotion\n",
      "Month                           \n",
      "April          390769          3\n",
      "August         559076          5\n",
      "July           354094          6\n",
      "June           663548          7\n",
      "May            633359          5\n",
      "September      494019          4\n",
      "           Home Game Played  Game Played  Day  Date  Tm  Opp  D/N  Promotion  \\\n",
      "Month                                                                          \n",
      "April                    11           11   11    11  11   11   11         11   \n",
      "August                   14           14   14    14  14   14   14         14   \n",
      "July                      9            9    9     9   9    9    9          9   \n",
      "June                     17           17   17    17  17   17   17         17   \n",
      "May                      17           17   17    17  17   17   17         17   \n",
      "September                13           13   13    13  13   13   13         13   \n",
      "\n",
      "           Attendance  \n",
      "Month                  \n",
      "April              11  \n",
      "August             14  \n",
      "July                9  \n",
      "June               17  \n",
      "May                17  \n",
      "September          13  \n"
     ]
    }
   ],
   "source": [
    "#Let's see breakdown of promotions by month\n",
    "m19p=cubs19.groupby(\"Month\")['Attendance','Promotion'].sum()\n",
    "m19g=cubs19.groupby(\"Month\").count()\n",
    "print(m19p)\n",
    "print(m19g)"
   ]
  },
  {
   "cell_type": "code",
   "execution_count": 175,
   "metadata": {},
   "outputs": [
    {
     "name": "stdout",
     "output_type": "stream",
     "text": [
      "           Attendance  Promotion\n",
      "Day                             \n",
      "Friday         506311          5\n",
      "Monday         262036          1\n",
      "Saturday       570425          2\n",
      "Sunday         480743          2\n",
      "Thursday       337495          0\n",
      "Tuesday        539989          6\n",
      "Wednesday      445640          2\n",
      "           Home Game Played  Game Played  Month  Date  Tm  Opp  D/N  \\\n",
      "Day                                                                   \n",
      "Friday                   13           13     13    13  13   13   13   \n",
      "Monday                    7            7      7     7   7    7    7   \n",
      "Saturday                 14           14     14    14  14   14   14   \n",
      "Sunday                   12           12     12    12  12   12   12   \n",
      "Thursday                  9            9      9     9   9    9    9   \n",
      "Tuesday                  14           14     14    14  14   14   14   \n",
      "Wednesday                12           12     12    12  12   12   12   \n",
      "\n",
      "           Promotion  Attendance  \n",
      "Day                               \n",
      "Friday            13          13  \n",
      "Monday             7           7  \n",
      "Saturday          14          14  \n",
      "Sunday            12          12  \n",
      "Thursday           9           9  \n",
      "Tuesday           14          14  \n",
      "Wednesday         12          12  \n"
     ]
    }
   ],
   "source": [
    "day18p=cubs18.groupby(\"Day\")['Attendance','Promotion'].sum()\n",
    "day18g=cubs18.groupby(\"Day\").count()\n",
    "print(day18p)\n",
    "print(day18g)"
   ]
  },
  {
   "cell_type": "code",
   "execution_count": 190,
   "metadata": {},
   "outputs": [
    {
     "name": "stdout",
     "output_type": "stream",
     "text": [
      "           Attendance  Promotion\n",
      "Month                           \n",
      "April          426743          5\n",
      "August         632764          3\n",
      "July           601335          4\n",
      "June           446085          4\n",
      "May            542209          2\n",
      "September      493503          0\n",
      "           Home Game Played  Game Played  Day  Date  Tm  Opp  D/N  Promotion  \\\n",
      "Month                                                                          \n",
      "April                    12           12   12    12  12   12   12         12   \n",
      "August                   16           16   16    16  16   16   16         16   \n",
      "July                     15           15   15    15  15   15   15         15   \n",
      "June                     11           11   11    11  11   11   11         11   \n",
      "May                      14           14   14    14  14   14   14         14   \n",
      "September                13           13   13    13  13   13   13         13   \n",
      "\n",
      "           Attendance  \n",
      "Month                  \n",
      "April              12  \n",
      "August             16  \n",
      "July               15  \n",
      "June               11  \n",
      "May                14  \n",
      "September          13  \n"
     ]
    }
   ],
   "source": [
    "#Let's see breakdown of promotions by month\n",
    "m18p=cubs18.groupby(\"Month\")['Attendance','Promotion'].sum()\n",
    "m18g=cubs18.groupby(\"Month\").count()\n",
    "print(m18p)\n",
    "print(m18g)"
   ]
  },
  {
   "cell_type": "code",
   "execution_count": 87,
   "metadata": {
    "scrolled": true
   },
   "outputs": [
    {
     "name": "stdout",
     "output_type": "stream",
     "text": [
      "Sum of Promotions in 2019\n",
      "30\n",
      "\n",
      "Sum of Promotions in 2018\n",
      "18\n",
      "\n",
      "Sum of Night Games in 2019\n",
      "33\n",
      "\n",
      "Sum of Night Games in 2018\n",
      "31\n",
      "\n"
     ]
    }
   ],
   "source": [
    "#comparison of promotions and night games per season\n",
    "print(\"Sum of Promotions in 2019\")\n",
    "print(cubs19_lr[\"Promotion\"].sum())\n",
    "print()\n",
    "print(\"Sum of Promotions in 2018\")\n",
    "print(cubs18_lr[\"Promotion\"].sum())\n",
    "print()\n",
    "print(\"Sum of Night Games in 2019\")\n",
    "print(cubs19_lr[\"D/N (1=night)\"].sum())\n",
    "print()\n",
    "print(\"Sum of Night Games in 2018\")\n",
    "print(cubs18_lr[\"D/N (1=night)\"].sum())\n",
    "print()"
   ]
  },
  {
   "cell_type": "markdown",
   "metadata": {},
   "source": [
    "# Linear Regression"
   ]
  },
  {
   "cell_type": "code",
   "execution_count": 179,
   "metadata": {},
   "outputs": [],
   "source": [
    "#Regression analysis\n",
    "# Let's put together x and y training and test sets\n",
    "#2019 data\n",
    "x = (cubs19_lr[['Month','Day','D/N (1=night)','Promotion']]).values\n",
    "y = (cubs19_lr['Attendance']).values"
   ]
  },
  {
   "cell_type": "code",
   "execution_count": 180,
   "metadata": {},
   "outputs": [],
   "source": [
    "from sklearn.model_selection import cross_val_score\n",
    "from sklearn.model_selection import train_test_split\n",
    "#take random shuffle of data for training and testing datasets - 20% of data used for test\n",
    "x_train, x_test , y_train, y_test = train_test_split(x,y,test_size=0.05)"
   ]
  },
  {
   "cell_type": "code",
   "execution_count": 181,
   "metadata": {},
   "outputs": [],
   "source": [
    "#use to training data and compare to test data set\n",
    "lin= LinearRegression()\n",
    "linfit=lin.fit(x_train,y_train)"
   ]
  },
  {
   "cell_type": "code",
   "execution_count": 113,
   "metadata": {},
   "outputs": [
    {
     "name": "stdout",
     "output_type": "stream",
     "text": [
      "1843.0863190903237\n"
     ]
    }
   ],
   "source": [
    "#Find RMSE\n",
    "y_pred=LinearRegression.predict(linfit, x_test)\n",
    "print( sqrt(mean_squared_error(y_test,y_pred)))"
   ]
  },
  {
   "cell_type": "code",
   "execution_count": 114,
   "metadata": {},
   "outputs": [
    {
     "data": {
      "text/plain": [
       "39026.4"
      ]
     },
     "execution_count": 114,
     "metadata": {},
     "output_type": "execute_result"
    }
   ],
   "source": [
    "y_test.mean()"
   ]
  },
  {
   "cell_type": "code",
   "execution_count": 115,
   "metadata": {},
   "outputs": [
    {
     "data": {
      "text/plain": [
       "38049.912501545885"
      ]
     },
     "execution_count": 115,
     "metadata": {},
     "output_type": "execute_result"
    }
   ],
   "source": [
    "y_pred.mean()"
   ]
  },
  {
   "cell_type": "code",
   "execution_count": 116,
   "metadata": {},
   "outputs": [
    {
     "data": {
      "text/plain": [
       "array([[7, 1, 0, 1],\n",
       "       [7, 2, 1, 1],\n",
       "       [8, 6, 0, 0],\n",
       "       [5, 2, 1, 0],\n",
       "       [8, 2, 1, 0]], dtype=int64)"
      ]
     },
     "execution_count": 116,
     "metadata": {},
     "output_type": "execute_result"
    }
   ],
   "source": [
    "x_test"
   ]
  },
  {
   "cell_type": "code",
   "execution_count": 117,
   "metadata": {},
   "outputs": [
    {
     "data": {
      "text/plain": [
       "array([39291, 36935, 40276, 37909, 40721], dtype=int64)"
      ]
     },
     "execution_count": 117,
     "metadata": {},
     "output_type": "execute_result"
    }
   ],
   "source": [
    "y_test"
   ]
  },
  {
   "cell_type": "code",
   "execution_count": 177,
   "metadata": {},
   "outputs": [
    {
     "data": {
      "text/plain": [
       "array([37727.77102983, 37754.28435202, 37936.28987837, 36893.11202103,\n",
       "       36812.12766273])"
      ]
     },
     "execution_count": 177,
     "metadata": {},
     "output_type": "execute_result"
    }
   ],
   "source": [
    "y_pred"
   ]
  },
  {
   "cell_type": "code",
   "execution_count": 88,
   "metadata": {},
   "outputs": [],
   "source": [
    "#Regression analysis\n",
    "# Let's put together x and y training and test sets\n",
    "#2018 data\n",
    "x = (cubs18_lr[['Month','Day','D/N (1=night)','Promotion']]).values\n",
    "y = (cubs18_lr['Attendance']).values"
   ]
  },
  {
   "cell_type": "code",
   "execution_count": 119,
   "metadata": {},
   "outputs": [],
   "source": [
    "from sklearn.model_selection import cross_val_score\n",
    "from sklearn.model_selection import train_test_split\n",
    "#take random shuffle of data for training and testing datasets - 20% of data used for test\n",
    "x_train, x_test , y_train, y_test = train_test_split(x,y,test_size=0.05)"
   ]
  },
  {
   "cell_type": "code",
   "execution_count": 120,
   "metadata": {},
   "outputs": [],
   "source": [
    "#use to training data and compare to test data set\n",
    "lin= LinearRegression()\n",
    "linfit=lin.fit(x_train,y_train)"
   ]
  },
  {
   "cell_type": "code",
   "execution_count": 121,
   "metadata": {},
   "outputs": [
    {
     "name": "stdout",
     "output_type": "stream",
     "text": [
      "1089.4211744679594\n"
     ]
    }
   ],
   "source": [
    "#Find RMSE\n",
    "y_pred=LinearRegression.predict(linfit, x_test)\n",
    "print( sqrt(mean_squared_error(y_test,y_pred)))"
   ]
  },
  {
   "cell_type": "code",
   "execution_count": 122,
   "metadata": {},
   "outputs": [
    {
     "data": {
      "text/plain": [
       "37588.8"
      ]
     },
     "execution_count": 122,
     "metadata": {},
     "output_type": "execute_result"
    }
   ],
   "source": [
    "y_test.mean()"
   ]
  },
  {
   "cell_type": "code",
   "execution_count": 123,
   "metadata": {},
   "outputs": [
    {
     "data": {
      "text/plain": [
       "37424.71698879651"
      ]
     },
     "execution_count": 123,
     "metadata": {},
     "output_type": "execute_result"
    }
   ],
   "source": [
    "y_pred.mean()"
   ]
  },
  {
   "cell_type": "code",
   "execution_count": 124,
   "metadata": {},
   "outputs": [
    {
     "data": {
      "text/plain": [
       "array([[5, 7, 0, 0],\n",
       "       [4, 1, 0, 1],\n",
       "       [6, 4, 1, 1],\n",
       "       [6, 4, 1, 0],\n",
       "       [6, 3, 1, 0]], dtype=int64)"
      ]
     },
     "execution_count": 124,
     "metadata": {},
     "output_type": "execute_result"
    }
   ],
   "source": [
    "x_test"
   ]
  },
  {
   "cell_type": "code",
   "execution_count": 125,
   "metadata": {},
   "outputs": [
    {
     "data": {
      "text/plain": [
       "array([39598, 38181, 38017, 35395, 36753], dtype=int64)"
      ]
     },
     "execution_count": 125,
     "metadata": {},
     "output_type": "execute_result"
    }
   ],
   "source": [
    "y_test"
   ]
  },
  {
   "cell_type": "code",
   "execution_count": 126,
   "metadata": {},
   "outputs": [
    {
     "data": {
      "text/plain": [
       "array([37727.77102983, 37754.28435202, 37936.28987837, 36893.11202103,\n",
       "       36812.12766273])"
      ]
     },
     "execution_count": 126,
     "metadata": {},
     "output_type": "execute_result"
    }
   ],
   "source": [
    "y_pred"
   ]
  },
  {
   "cell_type": "code",
   "execution_count": null,
   "metadata": {},
   "outputs": [],
   "source": []
  }
 ],
 "metadata": {
  "kernelspec": {
   "display_name": "Python 3",
   "language": "python",
   "name": "python3"
  },
  "language_info": {
   "codemirror_mode": {
    "name": "ipython",
    "version": 3
   },
   "file_extension": ".py",
   "mimetype": "text/x-python",
   "name": "python",
   "nbconvert_exporter": "python",
   "pygments_lexer": "ipython3",
   "version": "3.7.4"
  }
 },
 "nbformat": 4,
 "nbformat_minor": 2
}
